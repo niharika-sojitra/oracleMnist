{
 "cells": [
  {
   "cell_type": "code",
   "execution_count": 1,
   "id": "6c446631",
   "metadata": {
    "execution": {
     "iopub.execute_input": "2022-11-28T22:01:52.698307Z",
     "iopub.status.busy": "2022-11-28T22:01:52.696822Z",
     "iopub.status.idle": "2022-11-28T22:01:58.169236Z",
     "shell.execute_reply": "2022-11-28T22:01:58.168214Z"
    },
    "papermill": {
     "duration": 5.480922,
     "end_time": "2022-11-28T22:01:58.171980",
     "exception": false,
     "start_time": "2022-11-28T22:01:52.691058",
     "status": "completed"
    },
    "tags": []
   },
   "outputs": [],
   "source": [
    "from tensorflow.python.keras.utils.np_utils import to_categorical\n",
    "from tensorflow.keras.optimizers import Adam, SGD\n",
    "from keras.preprocessing import image\n",
    "from keras.models import Sequential, load_model\n",
    "from keras.layers import Dense, Dropout, MaxPooling2D, Flatten, Conv2D, BatchNormalization"
   ]
  },
  {
   "cell_type": "code",
   "execution_count": 2,
   "id": "f47249de",
   "metadata": {
    "execution": {
     "iopub.execute_input": "2022-11-28T22:01:58.180528Z",
     "iopub.status.busy": "2022-11-28T22:01:58.179990Z",
     "iopub.status.idle": "2022-11-28T22:02:01.156632Z",
     "shell.execute_reply": "2022-11-28T22:02:01.155089Z"
    },
    "papermill": {
     "duration": 2.984034,
     "end_time": "2022-11-28T22:02:01.159477",
     "exception": false,
     "start_time": "2022-11-28T22:01:58.175443",
     "status": "completed"
    },
    "tags": []
   },
   "outputs": [
    {
     "name": "stdout",
     "output_type": "stream",
     "text": [
      "Cloning into 'oracle-mnist'...\r\n",
      "remote: Enumerating objects: 259, done.\u001b[K\r\n",
      "remote: Counting objects: 100% (173/173), done.\u001b[K\r\n",
      "remote: Compressing objects: 100% (91/91), done.\u001b[K\r\n",
      "remote: Total 259 (delta 94), reused 145 (delta 76), pack-reused 86\u001b[K\r\n",
      "Receiving objects: 100% (259/259), 33.27 MiB | 32.02 MiB/s, done.\r\n",
      "Resolving deltas: 100% (117/117), done.\r\n"
     ]
    }
   ],
   "source": [
    "!git clone https://github.com/wm-bupt/oracle-mnist.git"
   ]
  },
  {
   "cell_type": "code",
   "execution_count": 3,
   "id": "fa4a176f",
   "metadata": {
    "execution": {
     "iopub.execute_input": "2022-11-28T22:02:01.169441Z",
     "iopub.status.busy": "2022-11-28T22:02:01.169111Z",
     "iopub.status.idle": "2022-11-28T22:02:02.128795Z",
     "shell.execute_reply": "2022-11-28T22:02:02.127546Z"
    },
    "papermill": {
     "duration": 0.967589,
     "end_time": "2022-11-28T22:02:02.131257",
     "exception": false,
     "start_time": "2022-11-28T22:02:01.163668",
     "status": "completed"
    },
    "tags": []
   },
   "outputs": [
    {
     "name": "stdout",
     "output_type": "stream",
     "text": [
      "__notebook__.ipynb  \u001b[0m\u001b[01;34moracle-mnist\u001b[0m/\r\n"
     ]
    }
   ],
   "source": [
    "ls"
   ]
  },
  {
   "cell_type": "code",
   "execution_count": 4,
   "id": "f4fbd67f",
   "metadata": {
    "execution": {
     "iopub.execute_input": "2022-11-28T22:02:02.141637Z",
     "iopub.status.busy": "2022-11-28T22:02:02.141314Z",
     "iopub.status.idle": "2022-11-28T22:02:02.149530Z",
     "shell.execute_reply": "2022-11-28T22:02:02.147833Z"
    },
    "papermill": {
     "duration": 0.016368,
     "end_time": "2022-11-28T22:02:02.152234",
     "exception": false,
     "start_time": "2022-11-28T22:02:02.135866",
     "status": "completed"
    },
    "tags": []
   },
   "outputs": [
    {
     "name": "stdout",
     "output_type": "stream",
     "text": [
      "/kaggle/working/oracle-mnist\n"
     ]
    }
   ],
   "source": [
    "\n",
    "cd oracle-mnist\n"
   ]
  },
  {
   "cell_type": "code",
   "execution_count": 5,
   "id": "2b42af8d",
   "metadata": {
    "execution": {
     "iopub.execute_input": "2022-11-28T22:02:02.162724Z",
     "iopub.status.busy": "2022-11-28T22:02:02.162442Z",
     "iopub.status.idle": "2022-11-28T22:02:02.168616Z",
     "shell.execute_reply": "2022-11-28T22:02:02.167200Z"
    },
    "papermill": {
     "duration": 0.013617,
     "end_time": "2022-11-28T22:02:02.171255",
     "exception": false,
     "start_time": "2022-11-28T22:02:02.157638",
     "status": "completed"
    },
    "tags": []
   },
   "outputs": [
    {
     "name": "stdout",
     "output_type": "stream",
     "text": [
      "/kaggle/working/oracle-mnist/src\n"
     ]
    }
   ],
   "source": [
    "cd src"
   ]
  },
  {
   "cell_type": "code",
   "execution_count": 6,
   "id": "a1bca414",
   "metadata": {
    "execution": {
     "iopub.execute_input": "2022-11-28T22:02:02.181189Z",
     "iopub.status.busy": "2022-11-28T22:02:02.180370Z",
     "iopub.status.idle": "2022-11-28T22:02:02.435781Z",
     "shell.execute_reply": "2022-11-28T22:02:02.434568Z"
    },
    "papermill": {
     "duration": 0.265867,
     "end_time": "2022-11-28T22:02:02.441560",
     "exception": false,
     "start_time": "2022-11-28T22:02:02.175693",
     "status": "completed"
    },
    "tags": []
   },
   "outputs": [
    {
     "name": "stdout",
     "output_type": "stream",
     "text": [
      "The size of train set: 27222\n",
      "The size of t10k set: 3000\n"
     ]
    }
   ],
   "source": [
    "import mnist_reader\n",
    "x_train, y_train = mnist_reader.load_data('../data/oracle', kind='train')\n",
    "x_test, y_test = mnist_reader.load_data('../data/oracle', kind='t10k')\n",
    "x_train = x_train.reshape(-1,1,28,28) / 255.\n",
    "x_test = x_test.reshape(-1,1,28,28) / 255.\n",
    "y_train = to_categorical(y_train, num_classes = 10)\n",
    "y_test = to_categorical(y_test, num_classes = 10)"
   ]
  },
  {
   "cell_type": "code",
   "execution_count": 7,
   "id": "f27c7d35",
   "metadata": {
    "execution": {
     "iopub.execute_input": "2022-11-28T22:02:02.456988Z",
     "iopub.status.busy": "2022-11-28T22:02:02.456674Z",
     "iopub.status.idle": "2022-11-28T22:02:02.469069Z",
     "shell.execute_reply": "2022-11-28T22:02:02.468159Z"
    },
    "papermill": {
     "duration": 0.021152,
     "end_time": "2022-11-28T22:02:02.471175",
     "exception": false,
     "start_time": "2022-11-28T22:02:02.450023",
     "status": "completed"
    },
    "tags": []
   },
   "outputs": [],
   "source": [
    "sgd = SGD(learning_rate = 0.1, momentum=0.4)\n",
    "#adam = Adam(learning_rate=0.001, beta_1=0.9)"
   ]
  },
  {
   "cell_type": "code",
   "execution_count": 8,
   "id": "b7192d75",
   "metadata": {
    "execution": {
     "iopub.execute_input": "2022-11-28T22:02:02.480364Z",
     "iopub.status.busy": "2022-11-28T22:02:02.480081Z",
     "iopub.status.idle": "2022-11-28T22:02:05.915334Z",
     "shell.execute_reply": "2022-11-28T22:02:05.914386Z"
    },
    "papermill": {
     "duration": 3.442888,
     "end_time": "2022-11-28T22:02:05.917938",
     "exception": false,
     "start_time": "2022-11-28T22:02:02.475050",
     "status": "completed"
    },
    "tags": []
   },
   "outputs": [
    {
     "name": "stderr",
     "output_type": "stream",
     "text": [
      "2022-11-28 22:02:02.574134: I tensorflow/stream_executor/cuda/cuda_gpu_executor.cc:937] successful NUMA node read from SysFS had negative value (-1), but there must be at least one NUMA node, so returning NUMA node zero\n",
      "2022-11-28 22:02:02.681107: I tensorflow/stream_executor/cuda/cuda_gpu_executor.cc:937] successful NUMA node read from SysFS had negative value (-1), but there must be at least one NUMA node, so returning NUMA node zero\n",
      "2022-11-28 22:02:02.681924: I tensorflow/stream_executor/cuda/cuda_gpu_executor.cc:937] successful NUMA node read from SysFS had negative value (-1), but there must be at least one NUMA node, so returning NUMA node zero\n",
      "2022-11-28 22:02:02.683604: I tensorflow/core/platform/cpu_feature_guard.cc:142] This TensorFlow binary is optimized with oneAPI Deep Neural Network Library (oneDNN) to use the following CPU instructions in performance-critical operations:  AVX2 AVX512F FMA\n",
      "To enable them in other operations, rebuild TensorFlow with the appropriate compiler flags.\n",
      "2022-11-28 22:02:02.683905: I tensorflow/stream_executor/cuda/cuda_gpu_executor.cc:937] successful NUMA node read from SysFS had negative value (-1), but there must be at least one NUMA node, so returning NUMA node zero\n",
      "2022-11-28 22:02:02.684657: I tensorflow/stream_executor/cuda/cuda_gpu_executor.cc:937] successful NUMA node read from SysFS had negative value (-1), but there must be at least one NUMA node, so returning NUMA node zero\n",
      "2022-11-28 22:02:02.685349: I tensorflow/stream_executor/cuda/cuda_gpu_executor.cc:937] successful NUMA node read from SysFS had negative value (-1), but there must be at least one NUMA node, so returning NUMA node zero\n",
      "2022-11-28 22:02:05.071418: I tensorflow/stream_executor/cuda/cuda_gpu_executor.cc:937] successful NUMA node read from SysFS had negative value (-1), but there must be at least one NUMA node, so returning NUMA node zero\n",
      "2022-11-28 22:02:05.072344: I tensorflow/stream_executor/cuda/cuda_gpu_executor.cc:937] successful NUMA node read from SysFS had negative value (-1), but there must be at least one NUMA node, so returning NUMA node zero\n",
      "2022-11-28 22:02:05.073031: I tensorflow/stream_executor/cuda/cuda_gpu_executor.cc:937] successful NUMA node read from SysFS had negative value (-1), but there must be at least one NUMA node, so returning NUMA node zero\n",
      "2022-11-28 22:02:05.073749: I tensorflow/core/common_runtime/gpu/gpu_device.cc:1510] Created device /job:localhost/replica:0/task:0/device:GPU:0 with 15401 MB memory:  -> device: 0, name: Tesla P100-PCIE-16GB, pci bus id: 0000:00:04.0, compute capability: 6.0\n"
     ]
    }
   ],
   "source": [
    "model = Sequential()\n",
    "\n",
    "#conv layer 1\n",
    "model.add(Conv2D(batch_input_shape=(None, 1, 28, 28), filters = 64, kernel_size = 3, strides = 1, padding = 'same', data_format = 'channels_first', activation='LeakyReLU', kernel_initializer= 'lecun_uniform', kernel_regularizer='L1L2'))\n",
    "model.add(MaxPooling2D(pool_size = 2, strides = 2, padding = 'same', data_format = 'channels_first'))\n",
    "\n",
    "#conv layer 2\n",
    "model.add(Conv2D(filters = 128, kernel_size = 3, strides = 1, padding = 'same', data_format = 'channels_first', activation='LeakyReLU', kernel_initializer= 'lecun_uniform', kernel_regularizer='L1L2'))\n",
    "model.add(MaxPooling2D(pool_size = 2, strides = 2, padding = 'same', data_format = 'channels_first'))\n",
    "\n",
    "#conv layer 3\n",
    "model.add(Conv2D(filters = 256, kernel_size = 3, strides = 1, padding = 'same', data_format = 'channels_first', activation='LeakyReLU', kernel_initializer= 'lecun_uniform', kernel_regularizer='L1L2'))\n",
    "model.add(MaxPooling2D(pool_size = 2, strides = 2, padding = 'same', data_format = 'channels_first'))\n",
    "\n",
    "#conv layer 4\n",
    "model.add(Conv2D(filters = 512, kernel_size = 3, strides = 1, padding = 'same', data_format = 'channels_first', activation='LeakyReLU', kernel_initializer= 'lecun_uniform', kernel_regularizer='L1L2'))\n",
    "model.add(MaxPooling2D(pool_size = 2, strides = 2, padding = 'same', data_format = 'channels_first'))\n",
    "                       \n",
    "#fc\n",
    "model.add(Flatten())\n",
    "model.add(Dense(1024, activation='LeakyReLU'))\n",
    "model.add(Dropout(0.2))\n",
    "# model.add(Dense(250, activation='ReLU'))\n",
    "model.add(Dense(10, activation='softmax'))\n",
    "\n",
    "model.compile(optimizer= sgd, loss='categorical_crossentropy',metrics=['accuracy'])"
   ]
  },
  {
   "cell_type": "code",
   "execution_count": 9,
   "id": "1fd0d1d9",
   "metadata": {
    "execution": {
     "iopub.execute_input": "2022-11-28T22:02:05.928357Z",
     "iopub.status.busy": "2022-11-28T22:02:05.928021Z",
     "iopub.status.idle": "2022-11-28T22:02:05.934455Z",
     "shell.execute_reply": "2022-11-28T22:02:05.933123Z"
    },
    "papermill": {
     "duration": 0.016809,
     "end_time": "2022-11-28T22:02:05.939343",
     "exception": false,
     "start_time": "2022-11-28T22:02:05.922534",
     "status": "completed"
    },
    "tags": []
   },
   "outputs": [
    {
     "name": "stdout",
     "output_type": "stream",
     "text": [
      "Model: \"sequential\"\n",
      "_________________________________________________________________\n",
      "Layer (type)                 Output Shape              Param #   \n",
      "=================================================================\n",
      "conv2d (Conv2D)              (None, 64, 28, 28)        640       \n",
      "_________________________________________________________________\n",
      "max_pooling2d (MaxPooling2D) (None, 64, 14, 14)        0         \n",
      "_________________________________________________________________\n",
      "conv2d_1 (Conv2D)            (None, 128, 14, 14)       73856     \n",
      "_________________________________________________________________\n",
      "max_pooling2d_1 (MaxPooling2 (None, 128, 7, 7)         0         \n",
      "_________________________________________________________________\n",
      "conv2d_2 (Conv2D)            (None, 256, 7, 7)         295168    \n",
      "_________________________________________________________________\n",
      "max_pooling2d_2 (MaxPooling2 (None, 256, 4, 4)         0         \n",
      "_________________________________________________________________\n",
      "conv2d_3 (Conv2D)            (None, 512, 4, 4)         1180160   \n",
      "_________________________________________________________________\n",
      "max_pooling2d_3 (MaxPooling2 (None, 512, 2, 2)         0         \n",
      "_________________________________________________________________\n",
      "flatten (Flatten)            (None, 2048)              0         \n",
      "_________________________________________________________________\n",
      "dense (Dense)                (None, 1024)              2098176   \n",
      "_________________________________________________________________\n",
      "dropout (Dropout)            (None, 1024)              0         \n",
      "_________________________________________________________________\n",
      "dense_1 (Dense)              (None, 10)                10250     \n",
      "=================================================================\n",
      "Total params: 3,658,250\n",
      "Trainable params: 3,658,250\n",
      "Non-trainable params: 0\n",
      "_________________________________________________________________\n"
     ]
    }
   ],
   "source": [
    "model.summary()"
   ]
  },
  {
   "cell_type": "code",
   "execution_count": 10,
   "id": "5043abce",
   "metadata": {
    "execution": {
     "iopub.execute_input": "2022-11-28T22:02:05.949913Z",
     "iopub.status.busy": "2022-11-28T22:02:05.949212Z",
     "iopub.status.idle": "2022-11-28T22:03:28.665107Z",
     "shell.execute_reply": "2022-11-28T22:03:28.664102Z"
    },
    "papermill": {
     "duration": 82.723638,
     "end_time": "2022-11-28T22:03:28.667452",
     "exception": false,
     "start_time": "2022-11-28T22:02:05.943814",
     "status": "completed"
    },
    "tags": []
   },
   "outputs": [
    {
     "name": "stderr",
     "output_type": "stream",
     "text": [
      "2022-11-28 22:02:06.222589: I tensorflow/compiler/mlir/mlir_graph_optimization_pass.cc:185] None of the MLIR Optimization Passes are enabled (registered 2)\n"
     ]
    },
    {
     "name": "stdout",
     "output_type": "stream",
     "text": [
      "Epoch 1/20\n"
     ]
    },
    {
     "name": "stderr",
     "output_type": "stream",
     "text": [
      "2022-11-28 22:02:07.604332: I tensorflow/stream_executor/cuda/cuda_dnn.cc:369] Loaded cuDNN version 8005\n"
     ]
    },
    {
     "name": "stdout",
     "output_type": "stream",
     "text": [
      "426/426 [==============================] - 11s 7ms/step - loss: 0.9080 - accuracy: 0.6777\n",
      "Epoch 2/20\n",
      "426/426 [==============================] - 3s 7ms/step - loss: 0.3123 - accuracy: 0.8944\n",
      "Epoch 3/20\n",
      "426/426 [==============================] - 3s 6ms/step - loss: 0.2094 - accuracy: 0.9291\n",
      "Epoch 4/20\n",
      "426/426 [==============================] - 3s 6ms/step - loss: 0.1413 - accuracy: 0.9521\n",
      "Epoch 5/20\n",
      "426/426 [==============================] - 3s 7ms/step - loss: 0.0926 - accuracy: 0.9683\n",
      "Epoch 6/20\n",
      "426/426 [==============================] - 3s 6ms/step - loss: 0.0581 - accuracy: 0.9810\n",
      "Epoch 7/20\n",
      "426/426 [==============================] - 3s 6ms/step - loss: 0.0424 - accuracy: 0.9862\n",
      "Epoch 8/20\n",
      "426/426 [==============================] - 3s 6ms/step - loss: 0.0216 - accuracy: 0.9927\n",
      "Epoch 9/20\n",
      "426/426 [==============================] - 3s 7ms/step - loss: 0.0191 - accuracy: 0.9947\n",
      "Epoch 10/20\n",
      "426/426 [==============================] - 3s 6ms/step - loss: 0.0144 - accuracy: 0.9956\n",
      "Epoch 11/20\n",
      "426/426 [==============================] - 3s 7ms/step - loss: 0.0106 - accuracy: 0.9971\n",
      "Epoch 12/20\n",
      "426/426 [==============================] - 3s 6ms/step - loss: 0.0078 - accuracy: 0.9979\n",
      "Epoch 13/20\n",
      "426/426 [==============================] - 3s 7ms/step - loss: 0.0078 - accuracy: 0.9979\n",
      "Epoch 14/20\n",
      "426/426 [==============================] - 3s 7ms/step - loss: 0.0022 - accuracy: 0.9996\n",
      "Epoch 15/20\n",
      "426/426 [==============================] - 3s 6ms/step - loss: 0.0024 - accuracy: 0.9994\n",
      "Epoch 16/20\n",
      "426/426 [==============================] - 3s 6ms/step - loss: 5.2066e-04 - accuracy: 1.0000\n",
      "Epoch 17/20\n",
      "426/426 [==============================] - 3s 7ms/step - loss: 1.9869e-04 - accuracy: 1.0000\n",
      "Epoch 18/20\n",
      "426/426 [==============================] - 3s 6ms/step - loss: 1.3788e-04 - accuracy: 1.0000\n",
      "Epoch 19/20\n",
      "426/426 [==============================] - 3s 6ms/step - loss: 1.2397e-04 - accuracy: 1.0000\n",
      "Epoch 20/20\n",
      "426/426 [==============================] - 3s 6ms/step - loss: 1.0027e-04 - accuracy: 1.0000\n"
     ]
    },
    {
     "data": {
      "text/plain": [
       "<keras.callbacks.History at 0x7fdaa1ec9250>"
      ]
     },
     "execution_count": 10,
     "metadata": {},
     "output_type": "execute_result"
    }
   ],
   "source": [
    " model.fit(x_train, y_train,batch_size=64, epochs=20)"
   ]
  },
  {
   "cell_type": "code",
   "execution_count": 11,
   "id": "2e22e1b4",
   "metadata": {
    "execution": {
     "iopub.execute_input": "2022-11-28T22:03:28.792081Z",
     "iopub.status.busy": "2022-11-28T22:03:28.791164Z",
     "iopub.status.idle": "2022-11-28T22:03:29.611160Z",
     "shell.execute_reply": "2022-11-28T22:03:29.610224Z"
    },
    "papermill": {
     "duration": 0.882784,
     "end_time": "2022-11-28T22:03:29.613301",
     "exception": false,
     "start_time": "2022-11-28T22:03:28.730517",
     "status": "completed"
    },
    "tags": []
   },
   "outputs": [
    {
     "name": "stdout",
     "output_type": "stream",
     "text": [
      "94/94 [==============================] - 1s 3ms/step - loss: 0.3296 - accuracy: 0.9450\n"
     ]
    }
   ],
   "source": [
    "loss, accuracy = model.evaluate(x_test, y_test)"
   ]
  },
  {
   "cell_type": "code",
   "execution_count": null,
   "id": "7a765fe8",
   "metadata": {
    "papermill": {
     "duration": 0.060611,
     "end_time": "2022-11-28T22:03:29.735513",
     "exception": false,
     "start_time": "2022-11-28T22:03:29.674902",
     "status": "completed"
    },
    "tags": []
   },
   "outputs": [],
   "source": []
  }
 ],
 "metadata": {
  "kernelspec": {
   "display_name": "Python 3",
   "language": "python",
   "name": "python3"
  },
  "language_info": {
   "codemirror_mode": {
    "name": "ipython",
    "version": 3
   },
   "file_extension": ".py",
   "mimetype": "text/x-python",
   "name": "python",
   "nbconvert_exporter": "python",
   "pygments_lexer": "ipython3",
   "version": "3.7.12"
  },
  "papermill": {
   "default_parameters": {},
   "duration": 108.390393,
   "end_time": "2022-11-28T22:03:33.062319",
   "environment_variables": {},
   "exception": null,
   "input_path": "__notebook__.ipynb",
   "output_path": "__notebook__.ipynb",
   "parameters": {},
   "start_time": "2022-11-28T22:01:44.671926",
   "version": "2.3.4"
  }
 },
 "nbformat": 4,
 "nbformat_minor": 5
}
